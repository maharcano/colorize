{
  "nbformat": 4,
  "nbformat_minor": 0,
  "metadata": {
    "accelerator": "GPU",
    "colab": {
      "name": "colorize.ipynb",
      "provenance": [],
      "collapsed_sections": []
    },
    "kernelspec": {
      "name": "python3",
      "display_name": "Python 3"
    },
    "language_info": {
      "codemirror_mode": {
        "name": "ipython",
        "version": 3
      },
      "file_extension": ".py",
      "mimetype": "text/x-python",
      "name": "python",
      "nbconvert_exporter": "python",
      "pygments_lexer": "ipython3",
      "version": "3.7.6"
    }
  },
  "cells": [
    {
      "cell_type": "markdown",
      "metadata": {
        "id": "gaEJBGDlptEo"
      },
      "source": [
        "#◢ Verify runtime settings and Git clone and install DeOldify\n",
        "\n",
        "IMPORTANT\n",
        "\n",
        "In the \"Runtime\" menu for the notebook window, select \"Change runtime type.\" Ensure that the following are selected:\n",
        "\n",
        "Runtime Type = Python 3\n",
        "Hardware Accelerator = GPU"
      ]
    },
    {
      "cell_type": "code",
      "metadata": {
        "id": "00_GcC_trpdE"
      },
      "source": [
        "import torch\n",
        "\n",
        "if not torch.cuda.is_available():\n",
        "    print('GPU not available.')"
      ],
      "execution_count": 1,
      "outputs": []
    },
    {
      "cell_type": "code",
      "metadata": {
        "id": "-T-svuHytJ-8",
        "colab": {
          "base_uri": "https://localhost:8080/"
        },
        "outputId": "cce10483-2843-46a2-af96-54575cf37498"
      },
      "source": [
        "!git clone https://github.com/maharcano/colorize.git DeOldify"
      ],
      "execution_count": 2,
      "outputs": [
        {
          "output_type": "stream",
          "name": "stdout",
          "text": [
            "Cloning into 'DeOldify'...\n",
            "remote: Enumerating objects: 65, done.\u001b[K\n",
            "remote: Counting objects: 100% (65/65), done.\u001b[K\n",
            "remote: Compressing objects: 100% (62/62), done.\u001b[K\n",
            "remote: Total 65 (delta 24), reused 0 (delta 0), pack-reused 0\u001b[K\n",
            "Unpacking objects: 100% (65/65), done.\n"
          ]
        }
      ]
    },
    {
      "cell_type": "code",
      "metadata": {
        "id": "QvKOHkCtRBnK",
        "colab": {
          "base_uri": "https://localhost:8080/"
        },
        "outputId": "9f2d7c9b-74b3-413b-be6a-530ad704392b"
      },
      "source": [
        "cd DeOldify"
      ],
      "execution_count": 3,
      "outputs": [
        {
          "output_type": "stream",
          "name": "stdout",
          "text": [
            "/content/DeOldify\n"
          ]
        }
      ]
    },
    {
      "cell_type": "markdown",
      "metadata": {
        "id": "BDFjbNxaadNJ"
      },
      "source": [
        "#◢ Setup"
      ]
    },
    {
      "cell_type": "code",
      "metadata": {
        "id": "Lsx7xCXNSVt6",
        "colab": {
          "base_uri": "https://localhost:8080/",
          "height": 0
        },
        "outputId": "9c4b722a-c81e-4737-c9f5-23d568938262"
      },
      "source": [
        "!pip install -r colab_requirements.txt"
      ],
      "execution_count": 4,
      "outputs": [
        {
          "output_type": "stream",
          "name": "stdout",
          "text": [
            "Collecting fastai==1.0.51\n",
            "  Downloading fastai-1.0.51-py3-none-any.whl (214 kB)\n",
            "\u001b[K     |████████████████████████████████| 214 kB 12.5 MB/s \n",
            "\u001b[?25hCollecting tensorboardX==1.6\n",
            "  Downloading tensorboardX-1.6-py2.py3-none-any.whl (129 kB)\n",
            "\u001b[K     |████████████████████████████████| 129 kB 50.9 MB/s \n",
            "\u001b[?25hCollecting ffmpeg\n",
            "  Downloading ffmpeg-1.4.tar.gz (5.1 kB)\n",
            "Collecting ffmpeg-python==0.1.17\n",
            "  Downloading ffmpeg_python-0.1.17-py3-none-any.whl (20 kB)\n",
            "Collecting youtube-dl>=2019.4.17\n",
            "  Downloading youtube_dl-2021.6.6-py2.py3-none-any.whl (1.9 MB)\n",
            "\u001b[K     |████████████████████████████████| 1.9 MB 46.0 MB/s \n",
            "\u001b[?25hCollecting jupyterlab\n",
            "  Downloading jupyterlab-3.2.4-py3-none-any.whl (8.6 MB)\n",
            "\u001b[K     |████████████████████████████████| 8.6 MB 19.5 MB/s \n",
            "\u001b[?25hRequirement already satisfied: opencv-python>=3.3.0.10 in /usr/local/lib/python3.7/dist-packages (from -r colab_requirements.txt (line 7)) (4.1.2.30)\n",
            "Requirement already satisfied: pillow in /usr/local/lib/python3.7/dist-packages (from -r colab_requirements.txt (line 8)) (7.1.2)\n",
            "Requirement already satisfied: pandas in /usr/local/lib/python3.7/dist-packages (from fastai==1.0.51->-r colab_requirements.txt (line 1)) (1.1.5)\n",
            "Requirement already satisfied: torchvision in /usr/local/lib/python3.7/dist-packages (from fastai==1.0.51->-r colab_requirements.txt (line 1)) (0.11.1+cu111)\n",
            "Requirement already satisfied: pyyaml in /usr/local/lib/python3.7/dist-packages (from fastai==1.0.51->-r colab_requirements.txt (line 1)) (3.13)\n",
            "Requirement already satisfied: numpy>=1.15 in /usr/local/lib/python3.7/dist-packages (from fastai==1.0.51->-r colab_requirements.txt (line 1)) (1.19.5)\n",
            "Requirement already satisfied: packaging in /usr/local/lib/python3.7/dist-packages (from fastai==1.0.51->-r colab_requirements.txt (line 1)) (21.3)\n",
            "Requirement already satisfied: torch>=1.0.0 in /usr/local/lib/python3.7/dist-packages (from fastai==1.0.51->-r colab_requirements.txt (line 1)) (1.10.0+cu111)\n",
            "Requirement already satisfied: fastprogress>=0.1.19 in /usr/local/lib/python3.7/dist-packages (from fastai==1.0.51->-r colab_requirements.txt (line 1)) (1.0.0)\n",
            "Requirement already satisfied: nvidia-ml-py3 in /usr/local/lib/python3.7/dist-packages (from fastai==1.0.51->-r colab_requirements.txt (line 1)) (7.352.0)\n",
            "Requirement already satisfied: requests in /usr/local/lib/python3.7/dist-packages (from fastai==1.0.51->-r colab_requirements.txt (line 1)) (2.23.0)\n",
            "Requirement already satisfied: matplotlib in /usr/local/lib/python3.7/dist-packages (from fastai==1.0.51->-r colab_requirements.txt (line 1)) (3.2.2)\n",
            "Requirement already satisfied: spacy>=2.0.18 in /usr/local/lib/python3.7/dist-packages (from fastai==1.0.51->-r colab_requirements.txt (line 1)) (2.2.4)\n",
            "Requirement already satisfied: numexpr in /usr/local/lib/python3.7/dist-packages (from fastai==1.0.51->-r colab_requirements.txt (line 1)) (2.7.3)\n",
            "Requirement already satisfied: beautifulsoup4 in /usr/local/lib/python3.7/dist-packages (from fastai==1.0.51->-r colab_requirements.txt (line 1)) (4.6.3)\n",
            "Collecting typing\n",
            "  Downloading typing-3.7.4.3.tar.gz (78 kB)\n",
            "\u001b[K     |████████████████████████████████| 78 kB 5.5 MB/s \n",
            "\u001b[?25hRequirement already satisfied: bottleneck in /usr/local/lib/python3.7/dist-packages (from fastai==1.0.51->-r colab_requirements.txt (line 1)) (1.3.2)\n",
            "Requirement already satisfied: scipy in /usr/local/lib/python3.7/dist-packages (from fastai==1.0.51->-r colab_requirements.txt (line 1)) (1.4.1)\n",
            "Requirement already satisfied: protobuf>=3.2.0 in /usr/local/lib/python3.7/dist-packages (from tensorboardX==1.6->-r colab_requirements.txt (line 2)) (3.17.3)\n",
            "Requirement already satisfied: six in /usr/local/lib/python3.7/dist-packages (from tensorboardX==1.6->-r colab_requirements.txt (line 2)) (1.15.0)\n",
            "Requirement already satisfied: future in /usr/local/lib/python3.7/dist-packages (from ffmpeg-python==0.1.17->-r colab_requirements.txt (line 4)) (0.16.0)\n",
            "Requirement already satisfied: plac<1.2.0,>=0.9.6 in /usr/local/lib/python3.7/dist-packages (from spacy>=2.0.18->fastai==1.0.51->-r colab_requirements.txt (line 1)) (1.1.3)\n",
            "Requirement already satisfied: cymem<2.1.0,>=2.0.2 in /usr/local/lib/python3.7/dist-packages (from spacy>=2.0.18->fastai==1.0.51->-r colab_requirements.txt (line 1)) (2.0.6)\n",
            "Requirement already satisfied: catalogue<1.1.0,>=0.0.7 in /usr/local/lib/python3.7/dist-packages (from spacy>=2.0.18->fastai==1.0.51->-r colab_requirements.txt (line 1)) (1.0.0)\n",
            "Requirement already satisfied: setuptools in /usr/local/lib/python3.7/dist-packages (from spacy>=2.0.18->fastai==1.0.51->-r colab_requirements.txt (line 1)) (57.4.0)\n",
            "Requirement already satisfied: blis<0.5.0,>=0.4.0 in /usr/local/lib/python3.7/dist-packages (from spacy>=2.0.18->fastai==1.0.51->-r colab_requirements.txt (line 1)) (0.4.1)\n",
            "Requirement already satisfied: tqdm<5.0.0,>=4.38.0 in /usr/local/lib/python3.7/dist-packages (from spacy>=2.0.18->fastai==1.0.51->-r colab_requirements.txt (line 1)) (4.62.3)\n",
            "Requirement already satisfied: wasabi<1.1.0,>=0.4.0 in /usr/local/lib/python3.7/dist-packages (from spacy>=2.0.18->fastai==1.0.51->-r colab_requirements.txt (line 1)) (0.8.2)\n",
            "Requirement already satisfied: murmurhash<1.1.0,>=0.28.0 in /usr/local/lib/python3.7/dist-packages (from spacy>=2.0.18->fastai==1.0.51->-r colab_requirements.txt (line 1)) (1.0.6)\n",
            "Requirement already satisfied: preshed<3.1.0,>=3.0.2 in /usr/local/lib/python3.7/dist-packages (from spacy>=2.0.18->fastai==1.0.51->-r colab_requirements.txt (line 1)) (3.0.6)\n",
            "Requirement already satisfied: srsly<1.1.0,>=1.0.2 in /usr/local/lib/python3.7/dist-packages (from spacy>=2.0.18->fastai==1.0.51->-r colab_requirements.txt (line 1)) (1.0.5)\n",
            "Requirement already satisfied: thinc==7.4.0 in /usr/local/lib/python3.7/dist-packages (from spacy>=2.0.18->fastai==1.0.51->-r colab_requirements.txt (line 1)) (7.4.0)\n",
            "Requirement already satisfied: importlib-metadata>=0.20 in /usr/local/lib/python3.7/dist-packages (from catalogue<1.1.0,>=0.0.7->spacy>=2.0.18->fastai==1.0.51->-r colab_requirements.txt (line 1)) (4.8.2)\n",
            "Requirement already satisfied: typing-extensions>=3.6.4 in /usr/local/lib/python3.7/dist-packages (from importlib-metadata>=0.20->catalogue<1.1.0,>=0.0.7->spacy>=2.0.18->fastai==1.0.51->-r colab_requirements.txt (line 1)) (3.10.0.2)\n",
            "Requirement already satisfied: zipp>=0.5 in /usr/local/lib/python3.7/dist-packages (from importlib-metadata>=0.20->catalogue<1.1.0,>=0.0.7->spacy>=2.0.18->fastai==1.0.51->-r colab_requirements.txt (line 1)) (3.6.0)\n",
            "Requirement already satisfied: idna<3,>=2.5 in /usr/local/lib/python3.7/dist-packages (from requests->fastai==1.0.51->-r colab_requirements.txt (line 1)) (2.10)\n",
            "Requirement already satisfied: certifi>=2017.4.17 in /usr/local/lib/python3.7/dist-packages (from requests->fastai==1.0.51->-r colab_requirements.txt (line 1)) (2021.10.8)\n",
            "Requirement already satisfied: chardet<4,>=3.0.2 in /usr/local/lib/python3.7/dist-packages (from requests->fastai==1.0.51->-r colab_requirements.txt (line 1)) (3.0.4)\n",
            "Requirement already satisfied: urllib3!=1.25.0,!=1.25.1,<1.26,>=1.21.1 in /usr/local/lib/python3.7/dist-packages (from requests->fastai==1.0.51->-r colab_requirements.txt (line 1)) (1.24.3)\n",
            "Collecting jupyterlab-server~=2.3\n",
            "  Downloading jupyterlab_server-2.8.2-py3-none-any.whl (58 kB)\n",
            "\u001b[K     |████████████████████████████████| 58 kB 5.3 MB/s \n",
            "\u001b[?25hRequirement already satisfied: jupyter-core in /usr/local/lib/python3.7/dist-packages (from jupyterlab->-r colab_requirements.txt (line 6)) (4.9.1)\n",
            "Collecting tornado>=6.1.0\n",
            "  Downloading tornado-6.1-cp37-cp37m-manylinux2010_x86_64.whl (428 kB)\n",
            "\u001b[K     |████████████████████████████████| 428 kB 55.3 MB/s \n",
            "\u001b[?25hRequirement already satisfied: jinja2>=2.1 in /usr/local/lib/python3.7/dist-packages (from jupyterlab->-r colab_requirements.txt (line 6)) (2.11.3)\n",
            "Collecting jupyter-server~=1.4\n",
            "  Downloading jupyter_server-1.13.1-py3-none-any.whl (396 kB)\n",
            "\u001b[K     |████████████████████████████████| 396 kB 53.0 MB/s \n",
            "\u001b[?25hRequirement already satisfied: ipython in /usr/local/lib/python3.7/dist-packages (from jupyterlab->-r colab_requirements.txt (line 6)) (5.5.0)\n",
            "Collecting nbclassic~=0.2\n",
            "  Downloading nbclassic-0.3.4-py3-none-any.whl (25 kB)\n",
            "Requirement already satisfied: MarkupSafe>=0.23 in /usr/local/lib/python3.7/dist-packages (from jinja2>=2.1->jupyterlab->-r colab_requirements.txt (line 6)) (2.0.1)\n",
            "Requirement already satisfied: ipython-genutils in /usr/local/lib/python3.7/dist-packages (from jupyter-server~=1.4->jupyterlab->-r colab_requirements.txt (line 6)) (0.2.0)\n",
            "Requirement already satisfied: Send2Trash in /usr/local/lib/python3.7/dist-packages (from jupyter-server~=1.4->jupyterlab->-r colab_requirements.txt (line 6)) (1.8.0)\n",
            "Collecting jupyter-client>=6.1.1\n",
            "  Downloading jupyter_client-7.1.0-py3-none-any.whl (129 kB)\n",
            "\u001b[K     |████████████████████████████████| 129 kB 45.2 MB/s \n",
            "\u001b[?25hRequirement already satisfied: nbconvert in /usr/local/lib/python3.7/dist-packages (from jupyter-server~=1.4->jupyterlab->-r colab_requirements.txt (line 6)) (5.6.1)\n",
            "Requirement already satisfied: traitlets>=4.2.1 in /usr/local/lib/python3.7/dist-packages (from jupyter-server~=1.4->jupyterlab->-r colab_requirements.txt (line 6)) (5.1.1)\n",
            "Requirement already satisfied: argon2-cffi in /usr/local/lib/python3.7/dist-packages (from jupyter-server~=1.4->jupyterlab->-r colab_requirements.txt (line 6)) (21.1.0)\n",
            "Requirement already satisfied: nbformat in /usr/local/lib/python3.7/dist-packages (from jupyter-server~=1.4->jupyterlab->-r colab_requirements.txt (line 6)) (5.1.3)\n",
            "Collecting anyio<4,>=3.1.0\n",
            "  Downloading anyio-3.4.0-py3-none-any.whl (78 kB)\n",
            "\u001b[K     |████████████████████████████████| 78 kB 7.6 MB/s \n",
            "\u001b[?25hRequirement already satisfied: pyzmq>=17 in /usr/local/lib/python3.7/dist-packages (from jupyter-server~=1.4->jupyterlab->-r colab_requirements.txt (line 6)) (22.3.0)\n",
            "Requirement already satisfied: terminado>=0.8.3 in /usr/local/lib/python3.7/dist-packages (from jupyter-server~=1.4->jupyterlab->-r colab_requirements.txt (line 6)) (0.12.1)\n",
            "Requirement already satisfied: prometheus-client in /usr/local/lib/python3.7/dist-packages (from jupyter-server~=1.4->jupyterlab->-r colab_requirements.txt (line 6)) (0.12.0)\n",
            "Collecting websocket-client\n",
            "  Downloading websocket_client-1.2.3-py3-none-any.whl (53 kB)\n",
            "\u001b[K     |████████████████████████████████| 53 kB 2.0 MB/s \n",
            "\u001b[?25hCollecting sniffio>=1.1\n",
            "  Downloading sniffio-1.2.0-py3-none-any.whl (10 kB)\n",
            "Requirement already satisfied: python-dateutil>=2.1 in /usr/local/lib/python3.7/dist-packages (from jupyter-client>=6.1.1->jupyter-server~=1.4->jupyterlab->-r colab_requirements.txt (line 6)) (2.8.2)\n",
            "Requirement already satisfied: nest-asyncio>=1.5 in /usr/local/lib/python3.7/dist-packages (from jupyter-client>=6.1.1->jupyter-server~=1.4->jupyterlab->-r colab_requirements.txt (line 6)) (1.5.4)\n",
            "Requirement already satisfied: entrypoints in /usr/local/lib/python3.7/dist-packages (from jupyter-client>=6.1.1->jupyter-server~=1.4->jupyterlab->-r colab_requirements.txt (line 6)) (0.3)\n",
            "Collecting jsonschema>=3.0.1\n",
            "  Downloading jsonschema-4.2.1-py3-none-any.whl (69 kB)\n",
            "\u001b[K     |████████████████████████████████| 69 kB 7.3 MB/s \n",
            "\u001b[?25hCollecting json5\n",
            "  Downloading json5-0.9.6-py2.py3-none-any.whl (18 kB)\n",
            "Requirement already satisfied: babel in /usr/local/lib/python3.7/dist-packages (from jupyterlab-server~=2.3->jupyterlab->-r colab_requirements.txt (line 6)) (2.9.1)\n",
            "Requirement already satisfied: attrs>=17.4.0 in /usr/local/lib/python3.7/dist-packages (from jsonschema>=3.0.1->jupyterlab-server~=2.3->jupyterlab->-r colab_requirements.txt (line 6)) (21.2.0)\n",
            "Requirement already satisfied: pyrsistent!=0.17.0,!=0.17.1,!=0.17.2,>=0.14.0 in /usr/local/lib/python3.7/dist-packages (from jsonschema>=3.0.1->jupyterlab-server~=2.3->jupyterlab->-r colab_requirements.txt (line 6)) (0.18.0)\n",
            "Requirement already satisfied: importlib-resources>=1.4.0 in /usr/local/lib/python3.7/dist-packages (from jsonschema>=3.0.1->jupyterlab-server~=2.3->jupyterlab->-r colab_requirements.txt (line 6)) (5.4.0)\n",
            "Requirement already satisfied: notebook<7 in /usr/local/lib/python3.7/dist-packages (from nbclassic~=0.2->jupyterlab->-r colab_requirements.txt (line 6)) (5.3.1)\n",
            "Requirement already satisfied: ipykernel in /usr/local/lib/python3.7/dist-packages (from notebook<7->nbclassic~=0.2->jupyterlab->-r colab_requirements.txt (line 6)) (4.10.1)\n",
            "Requirement already satisfied: ptyprocess in /usr/local/lib/python3.7/dist-packages (from terminado>=0.8.3->jupyter-server~=1.4->jupyterlab->-r colab_requirements.txt (line 6)) (0.7.0)\n",
            "Requirement already satisfied: cffi>=1.0.0 in /usr/local/lib/python3.7/dist-packages (from argon2-cffi->jupyter-server~=1.4->jupyterlab->-r colab_requirements.txt (line 6)) (1.15.0)\n",
            "Requirement already satisfied: pycparser in /usr/local/lib/python3.7/dist-packages (from cffi>=1.0.0->argon2-cffi->jupyter-server~=1.4->jupyterlab->-r colab_requirements.txt (line 6)) (2.21)\n",
            "Requirement already satisfied: pytz>=2015.7 in /usr/local/lib/python3.7/dist-packages (from babel->jupyterlab-server~=2.3->jupyterlab->-r colab_requirements.txt (line 6)) (2018.9)\n",
            "Requirement already satisfied: prompt-toolkit<2.0.0,>=1.0.4 in /usr/local/lib/python3.7/dist-packages (from ipython->jupyterlab->-r colab_requirements.txt (line 6)) (1.0.18)\n",
            "Requirement already satisfied: decorator in /usr/local/lib/python3.7/dist-packages (from ipython->jupyterlab->-r colab_requirements.txt (line 6)) (4.4.2)\n",
            "Requirement already satisfied: pickleshare in /usr/local/lib/python3.7/dist-packages (from ipython->jupyterlab->-r colab_requirements.txt (line 6)) (0.7.5)\n",
            "Requirement already satisfied: pexpect in /usr/local/lib/python3.7/dist-packages (from ipython->jupyterlab->-r colab_requirements.txt (line 6)) (4.8.0)\n",
            "Requirement already satisfied: pygments in /usr/local/lib/python3.7/dist-packages (from ipython->jupyterlab->-r colab_requirements.txt (line 6)) (2.6.1)\n",
            "Requirement already satisfied: simplegeneric>0.8 in /usr/local/lib/python3.7/dist-packages (from ipython->jupyterlab->-r colab_requirements.txt (line 6)) (0.8.1)\n",
            "Requirement already satisfied: wcwidth in /usr/local/lib/python3.7/dist-packages (from prompt-toolkit<2.0.0,>=1.0.4->ipython->jupyterlab->-r colab_requirements.txt (line 6)) (0.2.5)\n",
            "Requirement already satisfied: pyparsing!=2.0.4,!=2.1.2,!=2.1.6,>=2.0.1 in /usr/local/lib/python3.7/dist-packages (from matplotlib->fastai==1.0.51->-r colab_requirements.txt (line 1)) (3.0.6)\n",
            "Requirement already satisfied: cycler>=0.10 in /usr/local/lib/python3.7/dist-packages (from matplotlib->fastai==1.0.51->-r colab_requirements.txt (line 1)) (0.11.0)\n",
            "Requirement already satisfied: kiwisolver>=1.0.1 in /usr/local/lib/python3.7/dist-packages (from matplotlib->fastai==1.0.51->-r colab_requirements.txt (line 1)) (1.3.2)\n",
            "Requirement already satisfied: pandocfilters>=1.4.1 in /usr/local/lib/python3.7/dist-packages (from nbconvert->jupyter-server~=1.4->jupyterlab->-r colab_requirements.txt (line 6)) (1.5.0)\n",
            "Requirement already satisfied: mistune<2,>=0.8.1 in /usr/local/lib/python3.7/dist-packages (from nbconvert->jupyter-server~=1.4->jupyterlab->-r colab_requirements.txt (line 6)) (0.8.4)\n",
            "Requirement already satisfied: testpath in /usr/local/lib/python3.7/dist-packages (from nbconvert->jupyter-server~=1.4->jupyterlab->-r colab_requirements.txt (line 6)) (0.5.0)\n",
            "Requirement already satisfied: defusedxml in /usr/local/lib/python3.7/dist-packages (from nbconvert->jupyter-server~=1.4->jupyterlab->-r colab_requirements.txt (line 6)) (0.7.1)\n",
            "Requirement already satisfied: bleach in /usr/local/lib/python3.7/dist-packages (from nbconvert->jupyter-server~=1.4->jupyterlab->-r colab_requirements.txt (line 6)) (4.1.0)\n",
            "Requirement already satisfied: webencodings in /usr/local/lib/python3.7/dist-packages (from bleach->nbconvert->jupyter-server~=1.4->jupyterlab->-r colab_requirements.txt (line 6)) (0.5.1)\n",
            "Building wheels for collected packages: ffmpeg, typing\n",
            "  Building wheel for ffmpeg (setup.py) ... \u001b[?25l\u001b[?25hdone\n",
            "  Created wheel for ffmpeg: filename=ffmpeg-1.4-py3-none-any.whl size=6083 sha256=35e85a8fcd65b55068d58313e5f0587236197d9eb4e840173ca0c8163f0f2b7c\n",
            "  Stored in directory: /root/.cache/pip/wheels/64/80/6e/caa3e16deb0267c3cbfd36862058a724144e19fdb9eb03af0f\n",
            "  Building wheel for typing (setup.py) ... \u001b[?25l\u001b[?25hdone\n",
            "  Created wheel for typing: filename=typing-3.7.4.3-py3-none-any.whl size=26324 sha256=81e211ea21675111d578b561440b2320c7872586f3344b73bb378a071c63db68\n",
            "  Stored in directory: /root/.cache/pip/wheels/35/f3/15/01aa6571f0a72ee6ae7b827c1491c37a1f72d686fd22b43b0e\n",
            "Successfully built ffmpeg typing\n",
            "Installing collected packages: tornado, jsonschema, sniffio, jupyter-client, websocket-client, anyio, jupyter-server, json5, typing, nbclassic, jupyterlab-server, youtube-dl, tensorboardX, jupyterlab, ffmpeg-python, ffmpeg, fastai\n",
            "  Attempting uninstall: tornado\n",
            "    Found existing installation: tornado 5.1.1\n",
            "    Uninstalling tornado-5.1.1:\n",
            "      Successfully uninstalled tornado-5.1.1\n",
            "  Attempting uninstall: jsonschema\n",
            "    Found existing installation: jsonschema 2.6.0\n",
            "    Uninstalling jsonschema-2.6.0:\n",
            "      Successfully uninstalled jsonschema-2.6.0\n",
            "  Attempting uninstall: jupyter-client\n",
            "    Found existing installation: jupyter-client 5.3.5\n",
            "    Uninstalling jupyter-client-5.3.5:\n",
            "      Successfully uninstalled jupyter-client-5.3.5\n",
            "  Attempting uninstall: fastai\n",
            "    Found existing installation: fastai 1.0.61\n",
            "    Uninstalling fastai-1.0.61:\n",
            "      Successfully uninstalled fastai-1.0.61\n",
            "\u001b[31mERROR: pip's dependency resolver does not currently take into account all the packages that are installed. This behaviour is the source of the following dependency conflicts.\n",
            "google-colab 1.0.0 requires tornado~=5.1.0; python_version >= \"3.0\", but you have tornado 6.1 which is incompatible.\u001b[0m\n",
            "Successfully installed anyio-3.4.0 fastai-1.0.51 ffmpeg-1.4 ffmpeg-python-0.1.17 json5-0.9.6 jsonschema-4.2.1 jupyter-client-7.1.0 jupyter-server-1.13.1 jupyterlab-3.2.4 jupyterlab-server-2.8.2 nbclassic-0.3.4 sniffio-1.2.0 tensorboardX-1.6 tornado-6.1 typing-3.7.4.3 websocket-client-1.2.3 youtube-dl-2021.6.6\n"
          ]
        },
        {
          "output_type": "display_data",
          "data": {
            "application/vnd.colab-display-data+json": {
              "pip_warning": {
                "packages": [
                  "jupyter_client",
                  "tornado",
                  "typing"
                ]
              }
            }
          },
          "metadata": {}
        }
      ]
    },
    {
      "cell_type": "code",
      "metadata": {
        "id": "MsJa69CMwj3l"
      },
      "source": [
        "import fastai\n",
        "from deoldify.visualize import *\n",
        "\n",
        "torch.backends.cudnn.benchmark = True"
      ],
      "execution_count": 5,
      "outputs": []
    },
    {
      "cell_type": "code",
      "metadata": {
        "id": "TfUuhe2oRBnU",
        "colab": {
          "base_uri": "https://localhost:8080/"
        },
        "outputId": "6b5f1be4-082f-4a3e-ddc9-af4dd445c3a3"
      },
      "source": [
        "!mkdir 'models'\n",
        "!wget https://www.dropbox.com/s/0m1rwdk7je1r39j/MQT9QHUfXxKpQ9b2CPda89htDBzFtmHD9r2YZsHp.pth?dl=0 -O ./models/ColorizeArtistic_gen.pth"
      ],
      "execution_count": 6,
      "outputs": [
        {
          "output_type": "stream",
          "name": "stdout",
          "text": [
            "--2021-12-10 05:58:50--  https://www.dropbox.com/s/0m1rwdk7je1r39j/MQT9QHUfXxKpQ9b2CPda89htDBzFtmHD9r2YZsHp.pth?dl=0\n",
            "Resolving www.dropbox.com (www.dropbox.com)... 162.125.68.18, 2620:100:6022:18::a27d:4212\n",
            "Connecting to www.dropbox.com (www.dropbox.com)|162.125.68.18|:443... connected.\n",
            "HTTP request sent, awaiting response... 301 Moved Permanently\n",
            "Location: /s/raw/0m1rwdk7je1r39j/MQT9QHUfXxKpQ9b2CPda89htDBzFtmHD9r2YZsHp.pth [following]\n",
            "--2021-12-10 05:58:51--  https://www.dropbox.com/s/raw/0m1rwdk7je1r39j/MQT9QHUfXxKpQ9b2CPda89htDBzFtmHD9r2YZsHp.pth\n",
            "Reusing existing connection to www.dropbox.com:443.\n",
            "HTTP request sent, awaiting response... 302 Found\n",
            "Location: https://uc8f50d2cebd743696e2c3d7bfb6.dl.dropboxusercontent.com/cd/0/inline/BbgpVa0P4ZSC0PPXGrc3332ygIl6BNKmbcEF3TSPOGvfVM319LewASETOdb_dJeYEj363eTzjzq8ItiBLKTXT3rqqEDnDoxcvkCTVydFtIZy02yexBAi-nasSy4w2_ZUKG5SVXxS5L9D3Q1A8IRsgbEv/file# [following]\n",
            "--2021-12-10 05:58:52--  https://uc8f50d2cebd743696e2c3d7bfb6.dl.dropboxusercontent.com/cd/0/inline/BbgpVa0P4ZSC0PPXGrc3332ygIl6BNKmbcEF3TSPOGvfVM319LewASETOdb_dJeYEj363eTzjzq8ItiBLKTXT3rqqEDnDoxcvkCTVydFtIZy02yexBAi-nasSy4w2_ZUKG5SVXxS5L9D3Q1A8IRsgbEv/file\n",
            "Resolving uc8f50d2cebd743696e2c3d7bfb6.dl.dropboxusercontent.com (uc8f50d2cebd743696e2c3d7bfb6.dl.dropboxusercontent.com)... 162.125.68.15, 2620:100:6022:15::a27d:420f\n",
            "Connecting to uc8f50d2cebd743696e2c3d7bfb6.dl.dropboxusercontent.com (uc8f50d2cebd743696e2c3d7bfb6.dl.dropboxusercontent.com)|162.125.68.15|:443... connected.\n",
            "HTTP request sent, awaiting response... 302 Found\n",
            "Location: /cd/0/inline2/Bbi4OOAjGvaFvuowL9X7XO9AaoIpP86et2RapUAzgvOvaJyMis3uYYI_GY91StCMM0VzQWmCh8_HT_9ZfzvRr-4g-lvby9nkmYmtiubYP9JQ1pxVp3WcwjluO0ziArUyOZ9xE0962yZUE7iIIlznuB9ENm_-Qu-ijPwwFkNzirLXeJJOdSRzWYA8PhZEYcMjwUwutbAnW38Ls_1BmY8yrRJaiS8vu9cCWbL_Dscc_QascXjdvO9GdfBWtm5_UwdQHe-cAz7pibURwz6yQPI6niU4m_FqtEMnvt2VaG08LSyKIyGY0KV77TCANI8rsIIjGua_1WO583K8eBK_-bmgbSyo9oTFPQLOaNjhiyPNpMXNWicHcdaI8ZiFpa0Q0XgcNTw/file [following]\n",
            "--2021-12-10 05:58:52--  https://uc8f50d2cebd743696e2c3d7bfb6.dl.dropboxusercontent.com/cd/0/inline2/Bbi4OOAjGvaFvuowL9X7XO9AaoIpP86et2RapUAzgvOvaJyMis3uYYI_GY91StCMM0VzQWmCh8_HT_9ZfzvRr-4g-lvby9nkmYmtiubYP9JQ1pxVp3WcwjluO0ziArUyOZ9xE0962yZUE7iIIlznuB9ENm_-Qu-ijPwwFkNzirLXeJJOdSRzWYA8PhZEYcMjwUwutbAnW38Ls_1BmY8yrRJaiS8vu9cCWbL_Dscc_QascXjdvO9GdfBWtm5_UwdQHe-cAz7pibURwz6yQPI6niU4m_FqtEMnvt2VaG08LSyKIyGY0KV77TCANI8rsIIjGua_1WO583K8eBK_-bmgbSyo9oTFPQLOaNjhiyPNpMXNWicHcdaI8ZiFpa0Q0XgcNTw/file\n",
            "Reusing existing connection to uc8f50d2cebd743696e2c3d7bfb6.dl.dropboxusercontent.com:443.\n",
            "HTTP request sent, awaiting response... 200 OK\n",
            "Length: 255144681 (243M) [application/octet-stream]\n",
            "Saving to: ‘./models/ColorizeArtistic_gen.pth’\n",
            "\n",
            "./models/ColorizeAr 100%[===================>] 243.32M  17.9MB/s    in 13s     \n",
            "\n",
            "2021-12-10 05:59:06 (19.0 MB/s) - ‘./models/ColorizeArtistic_gen.pth’ saved [255144681/255144681]\n",
            "\n"
          ]
        }
      ]
    },
    {
      "cell_type": "code",
      "metadata": {
        "id": "LQigt1yrRBnX"
      },
      "source": [
        "stats = ([0.7137, 0.6628, 0.7719],[0.3670, 0.3917, 0.2679])\n",
        "#stats = ([0.7137, 0.6628, 0.6519],[0.2970, 0.3017, 0.2979])"
      ],
      "execution_count": 21,
      "outputs": []
    },
    {
      "cell_type": "code",
      "metadata": {
        "id": "tzHVnegp21hC",
        "colab": {
          "base_uri": "https://localhost:8080/"
        },
        "outputId": "6e684e8b-b16c-40c7-f69d-e1df9a5898a3"
      },
      "source": [
        "colorizer = get_image_colorizer(artistic=True,stats=stats)"
      ],
      "execution_count": 22,
      "outputs": [
        {
          "output_type": "stream",
          "name": "stderr",
          "text": [
            "/usr/local/lib/python3.7/dist-packages/fastai/data_block.py:442: UserWarning: Your training set is empty. If this is by design, pass `ignore_empty=True` to remove this warning.\n",
            "  warn(\"Your training set is empty. If this is by design, pass `ignore_empty=True` to remove this warning.\")\n",
            "/usr/local/lib/python3.7/dist-packages/fastai/data_block.py:445: UserWarning: Your validation set is empty. If this is by design, use `split_none()`\n",
            "                 or pass `ignore_empty=True` when labelling to remove this warning.\n",
            "  or pass `ignore_empty=True` when labelling to remove this warning.\"\"\")\n",
            "/usr/local/lib/python3.7/dist-packages/torch/utils/data/dataloader.py:481: UserWarning: This DataLoader will create 8 worker processes in total. Our suggested max number of worker in current system is 2, which is smaller than what this DataLoader is going to create. Please be aware that excessive worker creation might get DataLoader running slow or even freeze, lower the worker number to avoid potential slowness/freeze if necessary.\n",
            "  cpuset_checked))\n"
          ]
        }
      ]
    },
    {
      "cell_type": "markdown",
      "metadata": {
        "id": "sUQrbSYipiJn"
      },
      "source": [
        "#◢ Colorize!!"
      ]
    },
    {
      "cell_type": "code",
      "metadata": {
        "id": "zgaZTkhOj9-l"
      },
      "source": [
        "# upload all figures to DeOldify top folder\n",
        "\n",
        "import glob\n",
        "from PIL import Image, ImageEnhance\n",
        "\n",
        "render_factor = 23\n",
        "watermarked = False\n",
        "\n",
        "for file in glob.glob(\"*.jpg\"):\n",
        "  image_path = colorizer.plot_transformed_image(file, render_factor=render_factor, compare=False, post_process=False, watermarked=watermarked)\n",
        "for file in glob.glob(\"*.png\"):\n",
        "  image_path = colorizer.plot_transformed_image(file, render_factor=render_factor, compare=False, post_process=False, watermarked=watermarked)"
      ],
      "execution_count": 33,
      "outputs": []
    },
    {
      "cell_type": "code",
      "metadata": {
        "colab": {
          "base_uri": "https://localhost:8080/"
        },
        "id": "pDsC3IvkDMSi",
        "outputId": "ae70b898-36c9-448d-8e29-05579f7445c0"
      },
      "source": [
        "cd result_images/"
      ],
      "execution_count": 34,
      "outputs": [
        {
          "output_type": "stream",
          "name": "stdout",
          "text": [
            "/content/DeOldify/result_images\n"
          ]
        }
      ]
    },
    {
      "cell_type": "code",
      "metadata": {
        "id": "dTWF03vXL5uF"
      },
      "source": [
        "# increase saturation and sharpness if desired \n",
        "\n",
        "from PIL import Image, ImageEnhance\n",
        "\n",
        "for file in glob.glob(\"*.jpg\"):\n",
        "  img = PIL.Image.open(file)\n",
        "  enhancer = ImageEnhance.Sharpness(img)\n",
        "  img2 = enhancer.enhance(2.3)\n",
        "  converter = PIL.ImageEnhance.Color(img2)\n",
        "  img2 = converter.enhance(1.3)\n",
        "  img2 = img2.resize((1080,2200),1)\n",
        "  img2 = img2.save(file)\n",
        "  img.close()\n",
        "\n",
        "for file in glob.glob(\"*.png\"):\n",
        "  img = PIL.Image.open(file)\n",
        "  enhancer = ImageEnhance.Sharpness(img)\n",
        "  img2 = enhancer.enhance(2.3)\n",
        "  converter = PIL.ImageEnhance.Color(img2)\n",
        "  img2 = converter.enhance(1.3)\n",
        "  img2 = img2.resize((1080,2200),1)\n",
        "  img2 = img2.save(file)\n",
        "  img.close()"
      ],
      "execution_count": 35,
      "outputs": []
    },
    {
      "cell_type": "code",
      "metadata": {
        "colab": {
          "base_uri": "https://localhost:8080/"
        },
        "id": "JNTiVbzYL3HY",
        "outputId": "24ae19ea-6506-4589-d588-ccd47bff42b6"
      },
      "source": [
        "cd .."
      ],
      "execution_count": 36,
      "outputs": [
        {
          "output_type": "stream",
          "name": "stdout",
          "text": [
            "/content/DeOldify\n"
          ]
        }
      ]
    },
    {
      "cell_type": "markdown",
      "metadata": {
        "id": "sssDIJAiRBng"
      },
      "source": [
        "#◢ resto"
      ]
    },
    {
      "cell_type": "code",
      "metadata": {
        "colab": {
          "base_uri": "https://localhost:8080/"
        },
        "outputId": "24db4ac7-9753-4d49-a2b0-fe5944c5de8d",
        "id": "gNgmeB_lt-vG"
      },
      "source": [
        "#@title Export to Drive { form-width: \"30%\" }\n",
        "Archive_name = \"result_images.zip\"\n",
        "\n",
        "\n",
        "\n",
        "zip_cmd=\"-r -q \"+Archive_name+\" \"\n",
        "  \n",
        "%cd ../result_images\n",
        "zip_cmd+=\"result_images\" \n",
        "!zip $zip_cmd\n",
        "copy_cmd = \" \"+Archive_name+\"  /content/drive/My\\ Drive/\"\n",
        "!cp $copy_cmd\n",
        "\n",
        "\n",
        "\n",
        "print(\"Done!\")\n"
      ],
      "execution_count": null,
      "outputs": [
        {
          "output_type": "stream",
          "name": "stdout",
          "text": [
            "[Errno 2] No such file or directory: '../result_images'\n",
            "/content/DeOldify\n",
            "cp: cannot create regular file '/content/drive/My Drive/': No such file or directory\n",
            "Done!\n"
          ]
        }
      ]
    },
    {
      "cell_type": "code",
      "metadata": {
        "id": "mR7NdUlzU7eZ"
      },
      "source": [
        "# delete image files\n",
        "!find . -name \"*.jpg\" -type f -delete\n",
        "!find . -name \"*.png\" -type f -delete"
      ],
      "execution_count": null,
      "outputs": []
    },
    {
      "cell_type": "code",
      "metadata": {
        "id": "0Y3WfuwoNXqC",
        "colab": {
          "base_uri": "https://localhost:8080/"
        },
        "outputId": "f9a56529-6912-403d-f963-9363b6318c55"
      },
      "source": [
        "#@title Export to Drive { form-width: \"30%\" }\n",
        "Mode = \"result_images\" \n",
        "Archive_name = \"result_images.zip\"\n",
        "\n",
        "#Mount Google Drive as folder\n",
        "from google.colab import drive\n",
        "drive.mount('/content/drive', force_remount=True)\n",
        "\n",
        "def zip_and_copy(path, mode):\n",
        "  zip_cmd=\"-r -q \"+Archive_name+\" \"\n",
        "  \n",
        "  %cd $path\n",
        "  zip_cmd+=mode\n",
        "  !zip $zip_cmd\n",
        "  copy_cmd = \" \"+Archive_name+\"  /content/drive/My\\ Drive/\"\n",
        "  !cp $copy_cmd\n",
        "  !rm $Archive_name\n",
        "\n",
        "\n",
        "zip_and_copy(\"../result_images\", \"result_images\")\n",
        "\n",
        "print(\"Done!\")\n"
      ],
      "execution_count": null,
      "outputs": [
        {
          "output_type": "stream",
          "name": "stdout",
          "text": [
            "Mounted at /content/drive\n",
            "/content/DeOldify/result_images\n",
            "\n",
            "zip error: Nothing to do! (try: zip -r -q result_images.zip . -i result_images)\n",
            "cp: cannot stat 'result_images.zip': No such file or directory\n",
            "rm: cannot remove 'result_images.zip': No such file or directory\n",
            "Done!\n"
          ]
        }
      ]
    },
    {
      "cell_type": "code",
      "metadata": {
        "id": "fN7J6V5SmCLA"
      },
      "source": [
        "!apt install imagemagick          # only needed if u want to generate a pdf file later\""
      ],
      "execution_count": null,
      "outputs": []
    },
    {
      "cell_type": "code",
      "metadata": {
        "id": "2kTAFBW6broh"
      },
      "source": [
        "!sudo mv /etc/ImageMagick-6/policy.xml /etc/ImageMagick-6/policy.xmlout  # quick fix"
      ],
      "execution_count": null,
      "outputs": []
    },
    {
      "cell_type": "code",
      "metadata": {
        "id": "GTT_BER3brwg"
      },
      "source": [
        "!convert *.jpg doc.pdf     ## must be run inside result images "
      ],
      "execution_count": null,
      "outputs": []
    },
    {
      "cell_type": "code",
      "metadata": {
        "id": "NTuiUnl31CI2"
      },
      "source": [
        "import os\n",
        "os.kill(os.getpid(), 9)"
      ],
      "execution_count": null,
      "outputs": []
    }
  ]
}